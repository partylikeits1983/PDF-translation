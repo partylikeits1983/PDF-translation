{
 "cells": [
  {
   "cell_type": "code",
   "execution_count": 2,
   "id": "b975fbef",
   "metadata": {},
   "outputs": [
    {
     "name": "stdout",
     "output_type": "stream",
     "text": [
      "Translated(src=en, dest=ru, text=Мы, Народ Соединенных Штатов, чтобы сформировать более совершенный Союз, установить Справедливость, обеспечить внутреннее Спокойствие, обеспечить общую защиту, способствовать всеобщему Благосостоянию и обеспечить Благословения Свободы для себя и нашего потомства, мы устанавливаем и устанавливаем это Конституция Соединенных Штатов Америки. Конституционное собрание. Статья I: Конгресс. Все законодательные полномочия, предоставленные настоящим документом, принадлежат Конгрессу Соединенных Штатов, который состоит из Сената и Палаты представителей. Раздел 2: Палата представителей Палата представителей. состоит из членов, избираемых раз в два года народом нескольких штатов, и выборщики в каждом штате должны иметь квалификацию, необходимую для выборщиков наиболее многочисленной ветви законодательного собрания штата. Ни одно лицо не может быть представителем, которое не достигло бы Возраст двадцати пяти лет, и семь лет он является гражданином Соединенных Штатов, и кто не должен, когда он Представители и прямые налоги распределяются между несколькими штатами, которые могут быть включены в этот Союз, согласно их соответствующему количеству, которое определяется путем прибавления ко всему количеству свободных лиц. , включая тех, кто обязан служить в течение нескольких лет, и за исключением индейцев, не облагаемых налогом, три пятых всех других Лиц. Фактический подсчет должен быть произведен в течение трех лет после первого собрания Конгресса Соединенных Штатов и в течение каждого последующего срока, часто через несколько лет, в порядке, установленном законом. Число представителей не должно превышать одного на каждые тридцать тысяч. но каждое государство должно иметь как минимум одного представителя; и до тех пор, пока не будет произведена такая нумерация, штат Нью-Гэмпшир будет иметь право выбрать три, Массачусетсайт, Род-Айленд и Плантации Провиденс один, Коннектикут пять, Нью-Йорк шесть, Нью-Джерси четыре, Пенсильвания восемь, Делавэр один, Мэриленд шесть, Вирджиния десять, Северная Каролина пять, Южная Каролина пять, Джорджия три. Когда в представительстве от любого штата открываются вакансии, исполнительная власть этого штата должна выпустить Распоряжения о выборах для заполнения таких вакансий. Палата представителей избирает своего спикера и других должностных лиц; и имеет единоличную власть импичмента., pronunciation=[[]], extra_data=\"{'translat...\")\n"
     ]
    }
   ],
   "source": [
    "import PyPDF2\n",
    "from subprocess import call\n",
    "import sys\n",
    "\n",
    "#split function\n",
    "from PyPDF2 import PdfFileWriter, PdfFileReader\n",
    "import os, errno\n",
    "\n",
    "#google translate\n",
    "from googletrans import Translator, constants\n",
    "from pprint import pprint\n",
    "\n",
    "def split(directory, filename):\n",
    "    inputpdf = PdfFileReader(open(filename, \"rb\"))\n",
    "    try:\n",
    "        os.makedirs(directory)\n",
    "    except OSError as e:\n",
    "        if e.errno != errno.EEXIST:\n",
    "            raise\n",
    "\n",
    "    for i in range(inputpdf.numPages):\n",
    "        output = PdfFileWriter()\n",
    "        output.addPage(inputpdf.getPage(i))\n",
    "        with open(directory+ \"/%s.pdf\" % i, \"wb\") as outputStream:\n",
    "            output.write(outputStream)\n",
    "\n",
    "#define pdf file\n",
    "filename = '/home/ubuntu/Documents/constitution.pdf'\n",
    "directory = \"splitted/\" + filename\n",
    "\n",
    "split(directory, filename)\n",
    "\n",
    "pdfFileObj = open(filename, 'rb')\n",
    "pdfReader = PyPDF2.PdfFileReader(pdfFileObj)\n",
    "\n",
    "for i in range(pdfReader.numPages):\n",
    "    splitted_file_name = directory + \"/\" + repr(i)\n",
    "    call([\"pdftotext\", splitted_file_name + \".pdf\"])\n",
    "    f = open(splitted_file_name + '.txt', 'r')\n",
    "    \n",
    "    data = f.read().replace('\\n', '')\n",
    "    translator = Translator()\n",
    "\n",
    "    translation = translator.translate(data, src=\"en\", dest=\"ru\")\n",
    "    print(translation)\n",
    "      \n",
    "\n",
    "if __name__ == \"__main__\":\n",
    "    split(directory, filename)"
   ]
  },
  {
   "cell_type": "code",
   "execution_count": null,
   "id": "42891e9e",
   "metadata": {},
   "outputs": [],
   "source": []
  }
 ],
 "metadata": {
  "kernelspec": {
   "display_name": "Python 3",
   "language": "python",
   "name": "python3"
  },
  "language_info": {
   "codemirror_mode": {
    "name": "ipython",
    "version": 3
   },
   "file_extension": ".py",
   "mimetype": "text/x-python",
   "name": "python",
   "nbconvert_exporter": "python",
   "pygments_lexer": "ipython3",
   "version": "3.8.10"
  }
 },
 "nbformat": 4,
 "nbformat_minor": 5
}
