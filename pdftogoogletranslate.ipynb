{
 "cells": [
  {
   "cell_type": "code",
   "execution_count": 10,
   "id": "3c4dce34",
   "metadata": {},
   "outputs": [
    {
     "name": "stdout",
     "output_type": "stream",
     "text": [
      "Translated(src=en, dest=ru, text=Конституционный съезд Статья I: Полномочия на Конгресс принадлежат Конгрессу Соединенных Штатов, в его состав входят Сенат и Палата представителей. Пункт 2: Палата представителей состоит из членов, избираемых каждые два года, и выборщики в каждом штате должны иметь квалификацию самого многочисленного представителя законодательной власти штата, который не должен достичь возраста двадцати пяти лет, дзен Соединенных Штатов, и который, будучи избранным, не может быть избран в том штате, в котором он будет избран. Прямые налоги распределяются между отдельными налогоплательщиками в рамках этого Союза в соответствии с их соответствующими числами, добавленными к общему количеству свободных лиц на срок в несколько лет, за исключением индейцев, не облагаемых налогами. Фактический подсчет будет производиться в течение трех лет на заседании Конгресса Соединенных Штатов, в каждом последующем десятилетнем периоде, h в порядке, установленном законом. Например, три, Массачусетс, восемь, Род-Айленд и плантации Провиденс, один, Коннехаппен. в представительстве от любого штата ereof должен выдавать исполнительные листы для заполнения таких вакансий. Представители избирают своего спикера и обладают исключительными полномочиями по импичменту., pronunciation=[[]], extra_data=\"{'translat...\")\n"
     ]
    }
   ],
   "source": [
    "import PyPDF2\n",
    "from subprocess import call\n",
    "import sys\n",
    "\n",
    "#split function\n",
    "from PyPDF2 import PdfFileWriter, PdfFileReader\n",
    "import os, errno\n",
    "\n",
    "#google translate\n",
    "from googletrans import Translator, constants\n",
    "from pprint import pprint\n",
    "\n",
    "def split(directory, filename):\n",
    "    inputpdf = PdfFileReader(open(filename, \"rb\"))\n",
    "    try:\n",
    "        os.makedirs(directory)\n",
    "    except OSError as e:\n",
    "        if e.errno != errno.EEXIST:\n",
    "            raise\n",
    "\n",
    "    for i in range(inputpdf.numPages):\n",
    "        output = PdfFileWriter()\n",
    "        output.addPage(inputpdf.getPage(i))\n",
    "        with open(directory+ \"/%s.pdf\" % i, \"wb\") as outputStream:\n",
    "            output.write(outputStream)\n",
    "\n",
    "#define pdf file\n",
    "filename = '/home/ubuntu/Desktop/pdf.pdf'\n",
    "directory = \"splitted/\" + filename\n",
    "\n",
    "split(directory, filename)\n",
    "\n",
    "pdfFileObj = open(filename, 'rb')\n",
    "pdfReader = PyPDF2.PdfFileReader(pdfFileObj)\n",
    "\n",
    "for i in range(pdfReader.numPages):\n",
    "    splitted_file_name = directory + \"/\" + repr(i)\n",
    "    call([\"pdftotext\", splitted_file_name + \".pdf\"])\n",
    "    f = open(splitted_file_name + '.txt', 'r')\n",
    "    \n",
    "    data = f.read().replace('\\n', '')\n",
    "    translator = Translator()\n",
    "\n",
    "    translation = translator.translate(data, src=\"en\", dest=\"ru\")\n",
    "    print(translation)\n",
    "      \n",
    "\n",
    "if __name__ == \"__main__\":\n",
    "    split(directory, filename)\n",
    "\n"
   ]
  },
  {
   "cell_type": "code",
   "execution_count": null,
   "id": "b1fcee27",
   "metadata": {},
   "outputs": [],
   "source": []
  }
 ],
 "metadata": {
  "kernelspec": {
   "display_name": "Python 3",
   "language": "python",
   "name": "python3"
  },
  "language_info": {
   "codemirror_mode": {
    "name": "ipython",
    "version": 3
   },
   "file_extension": ".py",
   "mimetype": "text/x-python",
   "name": "python",
   "nbconvert_exporter": "python",
   "pygments_lexer": "ipython3",
   "version": "3.8.10"
  }
 },
 "nbformat": 4,
 "nbformat_minor": 5
}
